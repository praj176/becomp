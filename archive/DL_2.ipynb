{
  "nbformat": 4,
  "nbformat_minor": 0,
  "metadata": {
    "colab": {
      "provenance": []
    },
    "kernelspec": {
      "name": "python3",
      "display_name": "Python 3"
    },
    "language_info": {
      "name": "python"
    }
  },
  "cells": [
    {
      "cell_type": "code",
      "execution_count": 2,
      "metadata": {
        "id": "cQ41H_f1_x4K"
      },
      "outputs": [],
      "source": [
        "import numpy as np\n",
        "from tensorflow.keras.datasets import imdb\n",
        "from tensorflow.keras.preprocessing import sequence\n",
        "from tensorflow.keras.models import Sequential\n",
        "from tensorflow.keras.layers import Dense, Embedding, Flatten\n",
        "\n",
        "\n"
      ]
    },
    {
      "cell_type": "code",
      "source": [
        "# Set the parameters\n",
        "max_features = 10000   # Number of words to consider as features\n",
        "max_length = 500       # Maximum sequence length\n",
        "\n"
      ],
      "metadata": {
        "id": "FR_jpo6Y_2X1"
      },
      "execution_count": 3,
      "outputs": []
    },
    {
      "cell_type": "code",
      "source": [
        "# Load the IMDb dataset\n",
        "(x_train, y_train), (x_test, y_test) = imdb.load_data(num_words=max_features)\n",
        "\n",
        "# Preprocess the data\n",
        "x_train = sequence.pad_sequences(x_train, maxlen=max_length)\n",
        "x_test = sequence.pad_sequences(x_test, maxlen=max_length)\n",
        "\n"
      ],
      "metadata": {
        "colab": {
          "base_uri": "https://localhost:8080/"
        },
        "id": "6a1Eig66_5h1",
        "outputId": "d5dfbf2b-3a88-402b-c40b-a1b07407a030"
      },
      "execution_count": 4,
      "outputs": [
        {
          "output_type": "stream",
          "name": "stdout",
          "text": [
            "Downloading data from https://storage.googleapis.com/tensorflow/tf-keras-datasets/imdb.npz\n",
            "17464789/17464789 [==============================] - 1s 0us/step\n"
          ]
        }
      ]
    },
    {
      "cell_type": "code",
      "source": [
        "# Build the DNN model\n",
        "model = Sequential()\n",
        "model.add(Embedding(max_features, 32, input_length=max_length))\n",
        "model.add(Flatten())\n",
        "model.add(Dense(64, activation='relu'))\n",
        "model.add(Dense(1, activation='sigmoid'))\n",
        "\n"
      ],
      "metadata": {
        "id": "AFtbeEgE__Oa"
      },
      "execution_count": 5,
      "outputs": []
    },
    {
      "cell_type": "code",
      "source": [
        "# Compile the model\n",
        "model.compile(optimizer='adam', loss='binary_crossentropy', metrics=['accuracy'])\n",
        "\n",
        "# Train the model\n",
        "model.fit(x_train, y_train, batch_size=64, epochs=3, validation_data=(x_test, y_test))\n",
        "\n",
        "# Evaluate the model\n",
        "loss, accuracy = model.evaluate(x_test, y_test)\n",
        "print(f\"Loss: {loss:.4f}\")\n",
        "print(f\"Accuracy: {accuracy:.4f}\")"
      ],
      "metadata": {
        "colab": {
          "base_uri": "https://localhost:8080/"
        },
        "id": "nkPOCx4fABNy",
        "outputId": "99102b86-81ca-468f-dc5a-8f363e70d0a5"
      },
      "execution_count": 6,
      "outputs": [
        {
          "output_type": "stream",
          "name": "stdout",
          "text": [
            "Epoch 1/3\n",
            "391/391 [==============================] - 19s 47ms/step - loss: 0.4218 - accuracy: 0.7828 - val_loss: 0.2872 - val_accuracy: 0.8784\n",
            "Epoch 2/3\n",
            "391/391 [==============================] - 15s 39ms/step - loss: 0.1310 - accuracy: 0.9537 - val_loss: 0.3412 - val_accuracy: 0.8644\n",
            "Epoch 3/3\n",
            "391/391 [==============================] - 15s 39ms/step - loss: 0.0247 - accuracy: 0.9952 - val_loss: 0.4422 - val_accuracy: 0.8640\n",
            "782/782 [==============================] - 4s 5ms/step - loss: 0.4422 - accuracy: 0.8640\n",
            "Loss: 0.4422\n",
            "Accuracy: 0.8640\n"
          ]
        }
      ]
    },
    {
      "cell_type": "code",
      "source": [
        "model.predict(x_test)"
      ],
      "metadata": {
        "colab": {
          "base_uri": "https://localhost:8080/"
        },
        "id": "qwLEBqcCAQzS",
        "outputId": "54552a01-2441-49ba-a565-549e69d62245"
      },
      "execution_count": 7,
      "outputs": [
        {
          "output_type": "stream",
          "name": "stdout",
          "text": [
            "782/782 [==============================] - 4s 4ms/step\n"
          ]
        },
        {
          "output_type": "execute_result",
          "data": {
            "text/plain": [
              "array([[0.01114996],\n",
              "       [0.99994516],\n",
              "       [0.58447963],\n",
              "       ...,\n",
              "       [0.01600846],\n",
              "       [0.01518223],\n",
              "       [0.7552579 ]], dtype=float32)"
            ]
          },
          "metadata": {},
          "execution_count": 7
        }
      ]
    }
  ]
}