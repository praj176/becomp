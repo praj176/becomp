{
  "nbformat": 4,
  "nbformat_minor": 0,
  "metadata": {
    "colab": {
      "provenance": []
    },
    "kernelspec": {
      "name": "python3",
      "display_name": "Python 3"
    },
    "language_info": {
      "name": "python"
    }
  },
  "cells": [
    {
      "cell_type": "code",
      "execution_count": 25,
      "metadata": {
        "id": "VXIJIdBXI6P6"
      },
      "outputs": [],
      "source": [
        "import numpy as mp\n",
        "from tensorflow import keras\n",
        "# Load the IMDB dataset\n",
        "imdb = keras.datasets.imdb\n",
        "from tensorflow.keras.preprocessing.sequence import pad_sequences\n",
        "from keras.models import Sequential\n",
        "from keras.layers import Embedding,Bidirectional,LSTM,Dense\n"
      ]
    },
    {
      "cell_type": "markdown",
      "source": [
        "Load the IMDB dataset, which is available in the Keras library. The dataset contains movie reviews along with their corresponding labels (positive or negative). Preprocess the data by converting the text reviews into numerical representations."
      ],
      "metadata": {
        "id": "1tUATl36gBgA"
      }
    },
    {
      "cell_type": "code",
      "source": [
        "# Set the number of most frequent words to consider\n",
        "num_words = 10000\n",
        "\n",
        "# Load the data, split into training and testing sets\n",
        "(train_data, train_labels), (test_data, test_labels) = imdb.load_data(num_words=num_words)\n",
        "\n",
        "# Convert the reviews into one-hot encoded vectors\n",
        "train_data = keras.preprocessing.sequence.pad_sequences(train_data, value=0, padding='post', maxlen=256)\n",
        "test_data = keras.preprocessing.sequence.pad_sequences(test_data, value=0, padding='post', maxlen=256)\n",
        "\n"
      ],
      "metadata": {
        "id": "G_3QPkEyJZho"
      },
      "execution_count": 26,
      "outputs": []
    },
    {
      "cell_type": "markdown",
      "source": [
        "Step 3: Build the deep neural network model\n",
        "Build a deep neural network model using the Sequential API in Keras. Use an embedding layer to convert the input sequences into dense vectors, followed by one or more dense layers for classification"
      ],
      "metadata": {
        "id": "K6JIKS0-gQfa"
      }
    },
    {
      "cell_type": "code",
      "source": [
        "model = keras.Sequential()\n",
        "model.add(keras.layers.Embedding(num_words, 16))\n",
        "model.add(keras.layers.GlobalAveragePooling1D())\n",
        "model.add(keras.layers.Dense(16, activation='relu'))\n",
        "model.add(keras.layers.Dense(1, activation='sigmoid'))\n"
      ],
      "metadata": {
        "id": "w7jtknROJ7fk"
      },
      "execution_count": 28,
      "outputs": []
    },
    {
      "cell_type": "markdown",
      "source": [
        "Step 4: Compile and train the model\n",
        "Compile the model by specifying the loss function, optimizer, and evaluation metric. Then, train the model on the training data."
      ],
      "metadata": {
        "id": "K5SU98IrgZCv"
      }
    },
    {
      "cell_type": "code",
      "source": [
        "model.compile(optimizer='adam', loss='binary_crossentropy', metrics=['accuracy'])\n",
        "model.fit(train_data, train_labels, epochs=10, batch_size=32, validation_split=0.2)\n"
      ],
      "metadata": {
        "colab": {
          "base_uri": "https://localhost:8080/"
        },
        "id": "Fv0hJzi0J_W_",
        "outputId": "9b372958-cbf9-4966-e5a5-fa88b6e6bcd0"
      },
      "execution_count": 29,
      "outputs": [
        {
          "output_type": "stream",
          "name": "stdout",
          "text": [
            "Epoch 1/10\n",
            "625/625 [==============================] - 6s 9ms/step - loss: 0.5379 - accuracy: 0.7670 - val_loss: 0.3490 - val_accuracy: 0.8638\n",
            "Epoch 2/10\n",
            "625/625 [==============================] - 4s 6ms/step - loss: 0.2790 - accuracy: 0.8917 - val_loss: 0.2885 - val_accuracy: 0.8812\n",
            "Epoch 3/10\n",
            "625/625 [==============================] - 4s 6ms/step - loss: 0.2135 - accuracy: 0.9201 - val_loss: 0.2770 - val_accuracy: 0.8876\n",
            "Epoch 4/10\n",
            "625/625 [==============================] - 5s 8ms/step - loss: 0.1750 - accuracy: 0.9352 - val_loss: 0.2788 - val_accuracy: 0.8900\n",
            "Epoch 5/10\n",
            "625/625 [==============================] - 4s 6ms/step - loss: 0.1460 - accuracy: 0.9492 - val_loss: 0.2925 - val_accuracy: 0.8888\n",
            "Epoch 6/10\n",
            "625/625 [==============================] - 4s 6ms/step - loss: 0.1239 - accuracy: 0.9589 - val_loss: 0.3145 - val_accuracy: 0.8876\n",
            "Epoch 7/10\n",
            "625/625 [==============================] - 5s 8ms/step - loss: 0.1050 - accuracy: 0.9658 - val_loss: 0.3384 - val_accuracy: 0.8876\n",
            "Epoch 8/10\n",
            "625/625 [==============================] - 4s 6ms/step - loss: 0.0887 - accuracy: 0.9733 - val_loss: 0.3650 - val_accuracy: 0.8832\n",
            "Epoch 9/10\n",
            "625/625 [==============================] - 4s 6ms/step - loss: 0.0763 - accuracy: 0.9788 - val_loss: 0.3935 - val_accuracy: 0.8800\n",
            "Epoch 10/10\n",
            "625/625 [==============================] - 5s 8ms/step - loss: 0.0635 - accuracy: 0.9825 - val_loss: 0.4324 - val_accuracy: 0.8766\n"
          ]
        },
        {
          "output_type": "execute_result",
          "data": {
            "text/plain": [
              "<keras.callbacks.History at 0x7f57a8fd4cd0>"
            ]
          },
          "metadata": {},
          "execution_count": 29
        }
      ]
    },
    {
      "cell_type": "markdown",
      "source": [
        "Step 5: Evaluate the model\n",
        "Evaluate the model's performance on the test data."
      ],
      "metadata": {
        "id": "XdD2Dqnpg2Ge"
      }
    },
    {
      "cell_type": "code",
      "source": [
        "loss, accuracy = model.evaluate(test_data, test_labels)\n",
        "print('Test Loss:', loss)\n",
        "print('Test Accuracy:', accuracy)\n"
      ],
      "metadata": {
        "colab": {
          "base_uri": "https://localhost:8080/"
        },
        "id": "lg_j4ZuIKWT_",
        "outputId": "760b59db-32e1-49db-db2f-92cc99670500"
      },
      "execution_count": 30,
      "outputs": [
        {
          "output_type": "stream",
          "name": "stdout",
          "text": [
            "782/782 [==============================] - 2s 3ms/step - loss: 0.4702 - accuracy: 0.8596\n",
            "Test Loss: 0.47023043036460876\n",
            "Test Accuracy: 0.8596400022506714\n"
          ]
        }
      ]
    },
    {
      "cell_type": "markdown",
      "source": [
        "Step 6: Make predictions\n",
        "Use the trained model to make predictions on new reviews."
      ],
      "metadata": {
        "id": "70GMruYCg_CM"
      }
    },
    {
      "cell_type": "code",
      "source": [
        "# Define a function to preprocess new reviews\n",
        "word_index = []\n",
        "def preprocess_review(review):\n",
        "    # Tokenize the review\n",
        "    review = keras.preprocessing.text.text_to_word_sequence(review)\n",
        "    \n",
        "    # Convert the review into numerical representation\n",
        "    review = [word_index[word] if word in word_index else 0 for word in review]\n",
        "    \n",
        "    # Pad the review sequence\n",
        "    review = keras.preprocessing.sequence.pad_sequences([review], value=0, padding='post', maxlen=256)\n",
        "    \n",
        "    return review\n",
        "\n",
        "# Make predictions on new reviews\n",
        "new_review = \"This movie was fantastic!\"\n",
        "preprocessed_review = preprocess_review(new_review)\n",
        "prediction = model.predict(preprocessed_review)\n",
        "if prediction[0] >= 0.5:\n",
        "    print(\"Positive review!\")\n",
        "else:\n",
        "    print(\"Negative review!\")\n"
      ],
      "metadata": {
        "colab": {
          "base_uri": "https://localhost:8080/"
        },
        "id": "lNHLt2e-KYql",
        "outputId": "4bc9583a-e0fc-4482-e7bb-ab8c3e5f747b"
      },
      "execution_count": 32,
      "outputs": [
        {
          "output_type": "stream",
          "name": "stdout",
          "text": [
            "1/1 [==============================] - 0s 94ms/step\n",
            "Positive review!\n"
          ]
        }
      ]
    }
  ]
}